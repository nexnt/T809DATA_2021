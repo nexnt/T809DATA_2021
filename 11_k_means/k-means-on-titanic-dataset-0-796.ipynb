{
 "cells": [
  {
   "cell_type": "markdown",
   "metadata": {
    "papermill": {
     "duration": 0.031466,
     "end_time": "2020-10-21T12:31:48.768556",
     "exception": false,
     "start_time": "2020-10-21T12:31:48.737090",
     "status": "completed"
    },
    "tags": []
   },
   "source": [
    "# k-means-clustering from scratch\n",
    "In This notebook we write our own k-means from scratch in Python and apply it to predict the survivability on the famous Titanic dataset. The method is very similar to k-nearest-neighbor, however now we find groups of similar data.\n",
    "\n",
    "### Content\n",
    "1. Create a k-means algorithm\n",
    "2. Predict Titanic Survivabillity\n",
    "3. Solution using Scikit-Learn"
   ]
  },
  {
   "cell_type": "code",
   "execution_count": null,
   "metadata": {},
   "outputs": [],
   "source": []
  },
  {
   "cell_type": "code",
   "execution_count": 45,
   "metadata": {
    "execution": {
     "iopub.execute_input": "2020-10-21T12:31:48.836226Z",
     "iopub.status.busy": "2020-10-21T12:31:48.835351Z",
     "iopub.status.idle": "2020-10-21T12:31:48.838374Z",
     "shell.execute_reply": "2020-10-21T12:31:48.839005Z"
    },
    "papermill": {
     "duration": 0.038607,
     "end_time": "2020-10-21T12:31:48.839214",
     "exception": false,
     "start_time": "2020-10-21T12:31:48.800607",
     "status": "completed"
    },
    "tags": []
   },
   "outputs": [],
   "source": [
    "import numpy as np\n",
    "import pandas as pd\n",
    "import matplotlib.pyplot as plt"
   ]
  },
  {
   "cell_type": "markdown",
   "metadata": {
    "papermill": {
     "duration": 0.02899,
     "end_time": "2020-10-21T12:31:48.897781",
     "exception": false,
     "start_time": "2020-10-21T12:31:48.868791",
     "status": "completed"
    },
    "tags": []
   },
   "source": [
    "# 1. Create a k-means algorithm"
   ]
  },
  {
   "cell_type": "markdown",
   "metadata": {
    "papermill": {
     "duration": 0.029696,
     "end_time": "2020-10-21T12:31:48.956692",
     "exception": false,
     "start_time": "2020-10-21T12:31:48.926996",
     "status": "completed"
    },
    "tags": []
   },
   "source": [
    "Lets first generate a toy dataset to apply k-means on:"
   ]
  },
  {
   "cell_type": "code",
   "execution_count": 46,
   "metadata": {
    "execution": {
     "iopub.execute_input": "2020-10-21T12:31:49.038870Z",
     "iopub.status.busy": "2020-10-21T12:31:49.036293Z",
     "iopub.status.idle": "2020-10-21T12:31:49.252716Z",
     "shell.execute_reply": "2020-10-21T12:31:49.253318Z"
    },
    "papermill": {
     "duration": 0.265519,
     "end_time": "2020-10-21T12:31:49.253477",
     "exception": false,
     "start_time": "2020-10-21T12:31:48.987958",
     "status": "completed"
    },
    "tags": []
   },
   "outputs": [
    {
     "data": {
      "image/png": "[encoded data removed]",
      "text/plain": [
       "<Figure size 720x432 with 1 Axes>"
      ]
     },
     "metadata": {
      "needs_background": "light"
     },
     "output_type": "display_data"
    }
   ],
   "source": [
    "lower, higher = -10, 10\n",
    "points = 100\n",
    "clusters = 5\n",
    "width = 1.2\n",
    "random_state = 1\n",
    "\n",
    "np.random.seed(random_state)\n",
    "\n",
    "data = []\n",
    "for ix in range(clusters):\n",
    "    cx, cy = np.random.randint(lower, higher), np.random.randint(lower, higher), \n",
    "    x = np.random.normal(cx, width, size=(points,))\n",
    "    y = np.random.normal(cy, width, size=(points,))\n",
    "    data.append(\n",
    "        pd.DataFrame({\n",
    "            'x': x,\n",
    "            'y': y,\n",
    "            'label': ix + 1,\n",
    "        })\n",
    "    )\n",
    "data = pd.concat(data)\n",
    "\n",
    "X = data.drop('label', axis=1)\n",
    "y = data.drop(['x', 'y'], axis=1)\n",
    "\n",
    "fig, ax = plt.subplots(1,1, figsize=(10,6))\n",
    "ax.set_aspect('equal')\n",
    "plt.axis('off')\n",
    "fig.tight_layout()\n",
    "for group, group_data in data.groupby('label'):\n",
    "    plt.plot(group_data.x, group_data.y, 'o', ms=5, label=f'Class {group}')\n",
    "lgd = ax.legend(loc=8, fontsize=20, frameon=False, markerscale=2)"
   ]
  },
  {
   "cell_type": "markdown",
   "metadata": {
    "papermill": {
     "duration": 0.031264,
     "end_time": "2020-10-21T12:31:49.316200",
     "exception": false,
     "start_time": "2020-10-21T12:31:49.284936",
     "status": "completed"
    },
    "tags": []
   },
   "source": [
    "Next, we need to define a distance function. A very common function is the Euclidean distance."
   ]
  },
  {
   "cell_type": "code",
   "execution_count": 47,
   "metadata": {
    "execution": {
     "iopub.execute_input": "2020-10-21T12:31:49.388770Z",
     "iopub.status.busy": "2020-10-21T12:31:49.387758Z",
     "iopub.status.idle": "2020-10-21T12:31:49.393137Z",
     "shell.execute_reply": "2020-10-21T12:31:49.392292Z"
    },
    "papermill": {
     "duration": 0.046238,
     "end_time": "2020-10-21T12:31:49.393277",
     "exception": false,
     "start_time": "2020-10-21T12:31:49.347039",
     "status": "completed"
    },
    "tags": []
   },
   "outputs": [
    {
     "data": {
      "text/plain": [
       "5.0"
      ]
     },
     "execution_count": 47,
     "metadata": {},
     "output_type": "execute_result"
    }
   ],
   "source": [
    "def euclidean_distance(vector1, vector2):\n",
    "    return np.sqrt(np.sum((vector1 - vector2)**2))\n",
    "\n",
    "# test function\n",
    "vec1 = np.array([3, 0])\n",
    "vec2 = np.array([0, 4])\n",
    "\n",
    "# this is the 3:4:5 triangle and therefore, it should return 5 (Long live Pythagoras)\n",
    "euclidean_distance(vec1, vec2)"
   ]
  },
  {
   "cell_type": "markdown",
   "metadata": {
    "papermill": {
     "duration": 0.031549,
     "end_time": "2020-10-21T12:31:49.458853",
     "exception": false,
     "start_time": "2020-10-21T12:31:49.427304",
     "status": "completed"
    },
    "tags": []
   },
   "source": [
    "The euclidean distance calculates the square root, however, the squared distance is very similar and computationally a bit easier."
   ]
  },
  {
   "cell_type": "code",
   "execution_count": 48,
   "metadata": {
    "execution": {
     "iopub.execute_input": "2020-10-21T12:31:49.531160Z",
     "iopub.status.busy": "2020-10-21T12:31:49.530024Z",
     "iopub.status.idle": "2020-10-21T12:31:49.533006Z",
     "shell.execute_reply": "2020-10-21T12:31:49.533589Z"
    },
    "papermill": {
     "duration": 0.042912,
     "end_time": "2020-10-21T12:31:49.533767",
     "exception": false,
     "start_time": "2020-10-21T12:31:49.490855",
     "status": "completed"
    },
    "tags": []
   },
   "outputs": [],
   "source": [
    "def squared_difference(dataset, vector, columns=['x', 'y']):\n",
    "    return ((dataset[columns[0]] - vector[columns[0]])**2 +\n",
    "                  (dataset[columns[1]] - vector[columns[1]])**2)"
   ]
  },
  {
   "cell_type": "markdown",
   "metadata": {
    "papermill": {
     "duration": 0.036925,
     "end_time": "2020-10-21T12:31:49.603023",
     "exception": false,
     "start_time": "2020-10-21T12:31:49.566098",
     "status": "completed"
    },
    "tags": []
   },
   "source": [
    "As we already know the amount of clusters, lets just set that. For k-means we need a starting point. We will randomly select the number of clusters amount of points from our dataset."
   ]
  },
  {
   "cell_type": "code",
   "execution_count": 49,
   "metadata": {
    "execution": {
     "iopub.execute_input": "2020-10-21T12:31:49.676435Z",
     "iopub.status.busy": "2020-10-21T12:31:49.675412Z",
     "iopub.status.idle": "2020-10-21T12:31:49.680638Z",
     "shell.execute_reply": "2020-10-21T12:31:49.679747Z"
    },
    "papermill": {
     "duration": 0.045555,
     "end_time": "2020-10-21T12:31:49.680788",
     "exception": false,
     "start_time": "2020-10-21T12:31:49.635233",
     "status": "completed"
    },
    "tags": []
   },
   "outputs": [
    {
     "data": {
      "text/plain": [
       "5"
      ]
     },
     "execution_count": 49,
     "metadata": {},
     "output_type": "execute_result"
    }
   ],
   "source": [
    "number_of_clusters = len(y.label.unique())\n",
    "centroids = X.sample(number_of_clusters, random_state=random_state)\n",
    "number_of_clusters"
   ]
  },
  {
   "cell_type": "markdown",
   "metadata": {
    "papermill": {
     "duration": 0.031883,
     "end_time": "2020-10-21T12:31:49.744953",
     "exception": false,
     "start_time": "2020-10-21T12:31:49.713070",
     "status": "completed"
    },
    "tags": []
   },
   "source": [
    "Next we need a function to cluster our dataset according to the center points we have randomly chosen."
   ]
  },
  {
   "cell_type": "code",
   "execution_count": 50,
   "metadata": {
    "execution": {
     "iopub.execute_input": "2020-10-21T12:31:49.819469Z",
     "iopub.status.busy": "2020-10-21T12:31:49.818334Z",
     "iopub.status.idle": "2020-10-21T12:31:49.822169Z",
     "shell.execute_reply": "2020-10-21T12:31:49.821484Z"
    },
    "papermill": {
     "duration": 0.045202,
     "end_time": "2020-10-21T12:31:49.822302",
     "exception": false,
     "start_time": "2020-10-21T12:31:49.777100",
     "status": "completed"
    },
    "tags": []
   },
   "outputs": [],
   "source": [
    "def cluster_dataset(dataset, centroids):\n",
    "    distances = pd.concat([\n",
    "        ((dataset - centroid)**2).sum(axis=1)\n",
    "        for ix, centroid in centroids.iterrows()],\n",
    "        axis=1,\n",
    "    )\n",
    "    return dataset.assign( cluster = distances.idxmin(axis=1)), distances.min(axis=1).sum()"
   ]
  },
  {
   "cell_type": "code",
   "execution_count": 51,
   "metadata": {
    "execution": {
     "iopub.execute_input": "2020-10-21T12:31:49.893689Z",
     "iopub.status.busy": "2020-10-21T12:31:49.892823Z",
     "iopub.status.idle": "2020-10-21T12:31:49.992664Z",
     "shell.execute_reply": "2020-10-21T12:31:49.993267Z"
    },
    "papermill": {
     "duration": 0.139059,
     "end_time": "2020-10-21T12:31:49.993457",
     "exception": false,
     "start_time": "2020-10-21T12:31:49.854398",
     "status": "completed"
    },
    "tags": []
   },
   "outputs": [],
   "source": [
    "clustered, _ = cluster_dataset(X, centroids)"
   ]
  },
  {
   "cell_type": "code",
   "execution_count": 52,
   "metadata": {
    "execution": {
     "iopub.execute_input": "2020-10-21T12:31:50.067963Z",
     "iopub.status.busy": "2020-10-21T12:31:50.066989Z",
     "iopub.status.idle": "2020-10-21T12:31:50.072044Z",
     "shell.execute_reply": "2020-10-21T12:31:50.071328Z"
    },
    "papermill": {
     "duration": 0.045424,
     "end_time": "2020-10-21T12:31:50.072182",
     "exception": false,
     "start_time": "2020-10-21T12:31:50.026758",
     "status": "completed"
    },
    "tags": []
   },
   "outputs": [
    {
     "data": {
      "text/plain": [
       "array([2, 3, 1, 0, 4])"
      ]
     },
     "execution_count": 52,
     "metadata": {},
     "output_type": "execute_result"
    }
   ],
   "source": [
    "clustered.cluster.unique()"
   ]
  },
  {
   "cell_type": "markdown",
   "metadata": {
    "papermill": {
     "duration": 0.033136,
     "end_time": "2020-10-21T12:31:50.140361",
     "exception": false,
     "start_time": "2020-10-21T12:31:50.107225",
     "status": "completed"
    },
    "tags": []
   },
   "source": [
    "Lets plot our clustered dataset and include the centers:"
   ]
  },
  {
   "cell_type": "code",
   "execution_count": 53,
   "metadata": {
    "execution": {
     "iopub.execute_input": "2020-10-21T12:31:50.221091Z",
     "iopub.status.busy": "2020-10-21T12:31:50.220247Z",
     "iopub.status.idle": "2020-10-21T12:31:50.354951Z",
     "shell.execute_reply": "2020-10-21T12:31:50.354113Z"
    },
    "papermill": {
     "duration": 0.180071,
     "end_time": "2020-10-21T12:31:50.355086",
     "exception": false,
     "start_time": "2020-10-21T12:31:50.175015",
     "status": "completed"
    },
    "tags": []
   },
   "outputs": [
    {
     "data": {
      "image/png": "[encoded data removed]",
      "text/plain": [
       "<Figure size 720x432 with 1 Axes>"
      ]
     },
     "metadata": {
      "needs_background": "light"
     },
     "output_type": "display_data"
    }
   ],
   "source": [
    "fig, ax = plt.subplots(1,1, figsize=(10,6))\n",
    "ax.set_aspect('equal')\n",
    "plt.axis('off')\n",
    "fig.tight_layout()\n",
    "for group, group_data in clustered.groupby('cluster'):\n",
    "    plt.plot(group_data.x, group_data.y, 'o', ms=5, label=f'Class {group + 1}')\n",
    "\n",
    "for ix, centroid in centroids.iterrows():\n",
    "    ax.plot(centroid.x, centroid.y, 'ro', ms=10)\n",
    "lgd = ax.legend(loc=8, fontsize=20, frameon=False, markerscale=2)\n",
    "# xlim = ax.set_xlim([-5, 26])    \n"
   ]
  },
  {
   "cell_type": "markdown",
   "metadata": {
    "papermill": {
     "duration": 0.03484,
     "end_time": "2020-10-21T12:31:50.425040",
     "exception": false,
     "start_time": "2020-10-21T12:31:50.390200",
     "status": "completed"
    },
    "tags": []
   },
   "source": [
    "The next step in k-means is to update the centroids to have the center averaged over the found cluster. This will move the centroids to the new position and we can repeat this step to converge to the perfect position."
   ]
  },
  {
   "cell_type": "code",
   "execution_count": 54,
   "metadata": {
    "execution": {
     "iopub.execute_input": "2020-10-21T12:31:50.501973Z",
     "iopub.status.busy": "2020-10-21T12:31:50.501112Z",
     "iopub.status.idle": "2020-10-21T12:31:50.503890Z",
     "shell.execute_reply": "2020-10-21T12:31:50.504433Z"
    },
    "papermill": {
     "duration": 0.04372,
     "end_time": "2020-10-21T12:31:50.504625",
     "exception": false,
     "start_time": "2020-10-21T12:31:50.460905",
     "status": "completed"
    },
    "tags": []
   },
   "outputs": [],
   "source": [
    "def update_centroids(clustered_dataset):\n",
    "    new_centroids = clustered_dataset.groupby('cluster').mean().reset_index(drop=True)\n",
    "    return new_centroids\n"
   ]
  },
  {
   "cell_type": "code",
   "execution_count": 55,
   "metadata": {
    "execution": {
     "iopub.execute_input": "2020-10-21T12:31:50.589592Z",
     "iopub.status.busy": "2020-10-21T12:31:50.588742Z",
     "iopub.status.idle": "2020-10-21T12:31:50.592107Z",
     "shell.execute_reply": "2020-10-21T12:31:50.591248Z"
    },
    "papermill": {
     "duration": 0.052573,
     "end_time": "2020-10-21T12:31:50.592248",
     "exception": false,
     "start_time": "2020-10-21T12:31:50.539675",
     "status": "completed"
    },
    "tags": []
   },
   "outputs": [],
   "source": [
    "centroids = update_centroids(clustered)"
   ]
  },
  {
   "cell_type": "code",
   "execution_count": 56,
   "metadata": {
    "execution": {
     "iopub.execute_input": "2020-10-21T12:31:50.673204Z",
     "iopub.status.busy": "2020-10-21T12:31:50.672006Z",
     "iopub.status.idle": "2020-10-21T12:31:50.682307Z",
     "shell.execute_reply": "2020-10-21T12:31:50.681648Z"
    },
    "papermill": {
     "duration": 0.054242,
     "end_time": "2020-10-21T12:31:50.682452",
     "exception": false,
     "start_time": "2020-10-21T12:31:50.628210",
     "status": "completed"
    },
    "tags": []
   },
   "outputs": [
    {
     "data": {
      "text/html": [
       "<div>\n",
       "<style scoped>\n",
       "    .dataframe tbody tr th:only-of-type {\n",
       "        vertical-align: middle;\n",
       "    }\n",
       "\n",
       "    .dataframe tbody tr th {\n",
       "        vertical-align: top;\n",
       "    }\n",
       "\n",
       "    .dataframe thead th {\n",
       "        text-align: right;\n",
       "    }\n",
       "</style>\n",
       "<table border=\"1\" class=\"dataframe\">\n",
       "  <thead>\n",
       "    <tr style=\"text-align: right;\">\n",
       "      <th></th>\n",
       "      <th>x</th>\n",
       "      <th>y</th>\n",
       "    </tr>\n",
       "  </thead>\n",
       "  <tbody>\n",
       "    <tr>\n",
       "      <th>0</th>\n",
       "      <td>-0.493259</td>\n",
       "      <td>8.678160</td>\n",
       "    </tr>\n",
       "    <tr>\n",
       "      <th>1</th>\n",
       "      <td>7.309840</td>\n",
       "      <td>5.134415</td>\n",
       "    </tr>\n",
       "    <tr>\n",
       "      <th>2</th>\n",
       "      <td>-5.444337</td>\n",
       "      <td>0.765061</td>\n",
       "    </tr>\n",
       "    <tr>\n",
       "      <th>3</th>\n",
       "      <td>4.590739</td>\n",
       "      <td>-2.903448</td>\n",
       "    </tr>\n",
       "    <tr>\n",
       "      <th>4</th>\n",
       "      <td>-6.842355</td>\n",
       "      <td>-5.943509</td>\n",
       "    </tr>\n",
       "  </tbody>\n",
       "</table>\n",
       "</div>"
      ],
      "text/plain": [
       "          x         y\n",
       "0 -0.493259  8.678160\n",
       "1  7.309840  5.134415\n",
       "2 -5.444337  0.765061\n",
       "3  4.590739 -2.903448\n",
       "4 -6.842355 -5.943509"
      ]
     },
     "execution_count": 56,
     "metadata": {},
     "output_type": "execute_result"
    }
   ],
   "source": [
    "centroids"
   ]
  },
  {
   "cell_type": "markdown",
   "metadata": {
    "papermill": {
     "duration": 0.035376,
     "end_time": "2020-10-21T12:31:50.753413",
     "exception": false,
     "start_time": "2020-10-21T12:31:50.718037",
     "status": "completed"
    },
    "tags": []
   },
   "source": [
    "We can visualize this in steps:"
   ]
  },
  {
   "cell_type": "code",
   "execution_count": 64,
   "metadata": {
    "execution": {
     "iopub.execute_input": "2020-10-21T12:31:50.849625Z",
     "iopub.status.busy": "2020-10-21T12:31:50.844798Z",
     "iopub.status.idle": "2020-10-21T12:31:54.118572Z",
     "shell.execute_reply": "2020-10-21T12:31:54.119169Z"
    },
    "papermill": {
     "duration": 3.329602,
     "end_time": "2020-10-21T12:31:54.119350",
     "exception": false,
     "start_time": "2020-10-21T12:31:50.789748",
     "status": "completed"
    },
    "tags": []
   },
   "outputs": [
    {
     "data": {
      "image/png": "[encoded data removed]",
      "text/plain": [
       "<Figure size 720x432 with 1 Axes>"
      ]
     },
     "metadata": {
      "needs_background": "light"
     },
     "output_type": "display_data"
    }
   ],
   "source": [
    "from time import sleep\n",
    "from IPython.display import clear_output\n",
    "\n",
    "def plot(clustered, centroids, iteration, total_sum):\n",
    "    clear_output(wait=True)\n",
    "    fig, ax = plt.subplots(1,1, figsize=(10,6))\n",
    "    ax.set_aspect('equal')\n",
    "    plt.axis('off')\n",
    "    fig.tight_layout()\n",
    "    for group, group_data in clustered.groupby('cluster'):\n",
    "        ax.plot(group_data.x, group_data.y, 'o', ms=5, label=f'Class {group + 1}')\n",
    "    for ix, centroid in centroids.iterrows():\n",
    "        ax.plot(centroid.x, centroid.y, 'ro', ms=15)\n",
    "    lgd = ax.legend(loc=8, fontsize=20, frameon=False, markerscale=2)\n",
    "    ax.set_title(f'Iteration {iteration} (sum = {total_sum})')\n",
    "    plt.show()\n",
    "\n",
    "    \n",
    "def cluster_data(dataset, number_of_clusters, max_iter=20, show=False, pause=0.5):\n",
    "    ds = dataset.copy()\n",
    "    centroids = ds.sample(number_of_clusters, random_state=random_state)\n",
    "    previous_sum = pd.Series(range(len(centroids)))\n",
    "    for iteration in range(max_iter):\n",
    "        clustered, total_sum = cluster_dataset(ds, centroids)\n",
    "        centroids = update_centroids(clustered)\n",
    "        if show:\n",
    "            plot(clustered, centroids, iteration + 1, total_sum)\n",
    "            sleep(pause)\n",
    "        if (total_sum - previous_sum).sum() == 0:  # this is not the best method\n",
    "            break\n",
    "        previous_sum = total_sum\n",
    "    return clustered, centroids, total_sum\n",
    "            \n",
    "clust, cent, total_sum = cluster_data(X, number_of_clusters= 5, show=True)"
   ]
  },
  {
   "cell_type": "markdown",
   "metadata": {
    "papermill": {
     "duration": 0.037474,
     "end_time": "2020-10-21T12:31:54.195536",
     "exception": false,
     "start_time": "2020-10-21T12:31:54.158062",
     "status": "completed"
    },
    "tags": []
   },
   "source": [
    "This is a great method to identify groups, however we need to provide the amount of clusters. One way to select this amount is using the Elbow method. This is a visual method in which we plot the average distance of all datapoints to their centroids as function of number of clusters (k). These will go down fast in the beginning and eventually converge to a flat line. This is because we get clusters with only one or a few points and it cannot get much better. The \"elbow\" of the graph, i.e. the corner is approximately the best k-value. For this, we do need to have the proper distance, i.e. the euclidean distance, as we are summing many distances."
   ]
  },
  {
   "cell_type": "code",
   "execution_count": 65,
   "metadata": {
    "execution": {
     "iopub.execute_input": "2020-10-21T12:31:54.295060Z",
     "iopub.status.busy": "2020-10-21T12:31:54.293925Z",
     "iopub.status.idle": "2020-10-21T12:31:55.250537Z",
     "shell.execute_reply": "2020-10-21T12:31:55.249822Z"
    },
    "papermill": {
     "duration": 1.016874,
     "end_time": "2020-10-21T12:31:55.250675",
     "exception": false,
     "start_time": "2020-10-21T12:31:54.233801",
     "status": "completed"
    },
    "tags": []
   },
   "outputs": [
    {
     "data": {
      "image/png": "[encoded data removed]",
      "text/plain": [
       "<Figure size 864x576 with 1 Axes>"
      ]
     },
     "metadata": {
      "needs_background": "light"
     },
     "output_type": "display_data"
    }
   ],
   "source": [
    "result = {}\n",
    "for num_of_clust in range(2, 10):\n",
    "    clust, cent, total_sum = cluster_data(X, number_of_clusters=num_of_clust, show=False)\n",
    "    result[num_of_clust] = total_sum\n",
    "    \n",
    "fig, ax = plt.subplots(1, 1, figsize=(12, 8))\n",
    "ax.plot(list(result.keys()), list(result.values()), 'bo--')\n",
    "_ = ax.set_xlabel('Number of clusters (k)', fontsize=20)\n",
    "_ = ax.set_ylabel('Loss', fontsize=20)"
   ]
  },
  {
   "cell_type": "code",
   "execution_count": 59,
   "metadata": {
    "execution": {
     "iopub.execute_input": "2020-10-21T12:31:55.335894Z",
     "iopub.status.busy": "2020-10-21T12:31:55.334748Z",
     "iopub.status.idle": "2020-10-21T12:31:55.339949Z",
     "shell.execute_reply": "2020-10-21T12:31:55.339271Z"
    },
    "papermill": {
     "duration": 0.049779,
     "end_time": "2020-10-21T12:31:55.340079",
     "exception": false,
     "start_time": "2020-10-21T12:31:55.290300",
     "status": "completed"
    },
    "tags": []
   },
   "outputs": [
    {
     "data": {
      "text/plain": [
       "dict_values([18765.41979096566, 8155.317646862755, 4165.355556291486, 1395.8406089029208, 1322.012841316648, 1234.5558316259371, 1112.8605589831325, 1094.3048536269732])"
      ]
     },
     "execution_count": 59,
     "metadata": {},
     "output_type": "execute_result"
    }
   ],
   "source": [
    "result.values()"
   ]
  },
  {
   "cell_type": "markdown",
   "metadata": {
    "papermill": {
     "duration": 0.038697,
     "end_time": "2020-10-21T12:31:55.418561",
     "exception": false,
     "start_time": "2020-10-21T12:31:55.379864",
     "status": "completed"
    },
    "tags": []
   },
   "source": [
    "The elbow of the graph is around 5, which is exactly the amount of clusters we defined in the beginning. Of course, this is a very nice toy dataset and with real data this might not be so clear. Still, nice to have a confirmation!"
   ]
  },
  {
   "cell_type": "code",
   "execution_count": 60,
   "metadata": {
    "papermill": {
     "duration": 0.040122,
     "end_time": "2020-10-21T12:31:55.498432",
     "exception": false,
     "start_time": "2020-10-21T12:31:55.458310",
     "status": "completed"
    },
    "tags": []
   },
   "outputs": [
    {
     "data": {
      "text/plain": [
       "'/home/nexnt/projects/T809DATA_2021/11_k_means'"
      ]
     },
     "execution_count": 60,
     "metadata": {},
     "output_type": "execute_result"
    }
   ],
   "source": [
    "import os\n",
    "os.getcwd()"
   ]
  },
  {
   "cell_type": "markdown",
   "metadata": {
    "papermill": {
     "duration": 0.043303,
     "end_time": "2020-10-21T12:31:55.580922",
     "exception": false,
     "start_time": "2020-10-21T12:31:55.537619",
     "status": "completed"
    },
    "tags": []
   },
   "source": [
    "# 2. Predict Titanic Survivabillity"
   ]
  },
  {
   "cell_type": "markdown",
   "metadata": {
    "papermill": {
     "duration": 0.038636,
     "end_time": "2020-10-21T12:31:55.660060",
     "exception": false,
     "start_time": "2020-10-21T12:31:55.621424",
     "status": "completed"
    },
    "tags": []
   },
   "source": [
    "We start with the dataset we have created during my KNN Notebook:"
   ]
  },
  {
   "cell_type": "code",
   "execution_count": 69,
   "metadata": {
    "execution": {
     "iopub.execute_input": "2020-10-21T12:31:55.747569Z",
     "iopub.status.busy": "2020-10-21T12:31:55.746790Z",
     "iopub.status.idle": "2020-10-21T12:31:55.897983Z",
     "shell.execute_reply": "2020-10-21T12:31:55.897169Z"
    },
    "papermill": {
     "duration": 0.199123,
     "end_time": "2020-10-21T12:31:55.898123",
     "exception": false,
     "start_time": "2020-10-21T12:31:55.699000",
     "status": "completed"
    },
    "tags": []
   },
   "outputs": [],
   "source": [
    "import pyarrow\n",
    "import fastparquet\n",
    "\n",
    "combined = pd.read_parquet('titanic_family_survivabillity.parquet')\n",
    "\n",
    "train = combined.loc[combined['set'] == 'train'].drop('set', axis=1).reset_index(drop=True)\n",
    "test = combined.loc[combined['set'] == 'test'].drop(['set', 'Survived'], axis=1).reset_index(drop=True)\n",
    "train['Survived'] = train['Survived'].astype(np.int)\n",
    "\n",
    "columns = ['Pclass', 'Sex',  'Fare', 'family_survival', 'family_size']"
   ]
  },
  {
   "cell_type": "code",
   "execution_count": 70,
   "metadata": {
    "execution": {
     "iopub.execute_input": "2020-10-21T12:31:55.991423Z",
     "iopub.status.busy": "2020-10-21T12:31:55.990563Z",
     "iopub.status.idle": "2020-10-21T12:31:56.466647Z",
     "shell.execute_reply": "2020-10-21T12:31:56.465864Z"
    },
    "papermill": {
     "duration": 0.527903,
     "end_time": "2020-10-21T12:31:56.466785",
     "exception": false,
     "start_time": "2020-10-21T12:31:55.938882",
     "status": "completed"
    },
    "tags": []
   },
   "outputs": [
    {
     "data": {
      "text/html": [
       "<div>\n",
       "<style scoped>\n",
       "    .dataframe tbody tr th:only-of-type {\n",
       "        vertical-align: middle;\n",
       "    }\n",
       "\n",
       "    .dataframe tbody tr th {\n",
       "        vertical-align: top;\n",
       "    }\n",
       "\n",
       "    .dataframe thead th {\n",
       "        text-align: right;\n",
       "    }\n",
       "</style>\n",
       "<table border=\"1\" class=\"dataframe\">\n",
       "  <thead>\n",
       "    <tr style=\"text-align: right;\">\n",
       "      <th></th>\n",
       "      <th>Pclass</th>\n",
       "      <th>Sex</th>\n",
       "      <th>Fare</th>\n",
       "      <th>family_survival</th>\n",
       "      <th>family_size</th>\n",
       "      <th>cluster</th>\n",
       "      <th>Survived</th>\n",
       "      <th>group_survived</th>\n",
       "    </tr>\n",
       "  </thead>\n",
       "  <tbody>\n",
       "    <tr>\n",
       "      <th>0</th>\n",
       "      <td>-1.546098</td>\n",
       "      <td>-1.344995</td>\n",
       "      <td>1.415958</td>\n",
       "      <td>1.498350</td>\n",
       "      <td>-0.558346</td>\n",
       "      <td>7</td>\n",
       "      <td>1</td>\n",
       "      <td>1</td>\n",
       "    </tr>\n",
       "    <tr>\n",
       "      <th>1</th>\n",
       "      <td>-1.546098</td>\n",
       "      <td>-1.344995</td>\n",
       "      <td>1.415958</td>\n",
       "      <td>1.498350</td>\n",
       "      <td>-0.558346</td>\n",
       "      <td>7</td>\n",
       "      <td>1</td>\n",
       "      <td>1</td>\n",
       "    </tr>\n",
       "    <tr>\n",
       "      <th>2</th>\n",
       "      <td>-1.546098</td>\n",
       "      <td>-1.344995</td>\n",
       "      <td>1.415958</td>\n",
       "      <td>1.498350</td>\n",
       "      <td>-0.558346</td>\n",
       "      <td>7</td>\n",
       "      <td>1</td>\n",
       "      <td>1</td>\n",
       "    </tr>\n",
       "    <tr>\n",
       "      <th>3</th>\n",
       "      <td>-1.546098</td>\n",
       "      <td>0.743497</td>\n",
       "      <td>1.415958</td>\n",
       "      <td>1.498350</td>\n",
       "      <td>0.705051</td>\n",
       "      <td>5</td>\n",
       "      <td>0</td>\n",
       "      <td>0</td>\n",
       "    </tr>\n",
       "    <tr>\n",
       "      <th>4</th>\n",
       "      <td>-1.546098</td>\n",
       "      <td>-1.344995</td>\n",
       "      <td>1.415958</td>\n",
       "      <td>1.498350</td>\n",
       "      <td>0.705051</td>\n",
       "      <td>3</td>\n",
       "      <td>1</td>\n",
       "      <td>1</td>\n",
       "    </tr>\n",
       "    <tr>\n",
       "      <th>...</th>\n",
       "      <td>...</td>\n",
       "      <td>...</td>\n",
       "      <td>...</td>\n",
       "      <td>...</td>\n",
       "      <td>...</td>\n",
       "      <td>...</td>\n",
       "      <td>...</td>\n",
       "      <td>...</td>\n",
       "    </tr>\n",
       "    <tr>\n",
       "      <th>886</th>\n",
       "      <td>0.841916</td>\n",
       "      <td>-1.344995</td>\n",
       "      <td>-1.392358</td>\n",
       "      <td>-0.052117</td>\n",
       "      <td>-0.558346</td>\n",
       "      <td>13</td>\n",
       "      <td>0</td>\n",
       "      <td>1</td>\n",
       "    </tr>\n",
       "    <tr>\n",
       "      <th>887</th>\n",
       "      <td>-1.546098</td>\n",
       "      <td>0.743497</td>\n",
       "      <td>1.415958</td>\n",
       "      <td>-0.052117</td>\n",
       "      <td>0.073352</td>\n",
       "      <td>33</td>\n",
       "      <td>0</td>\n",
       "      <td>0</td>\n",
       "    </tr>\n",
       "    <tr>\n",
       "      <th>888</th>\n",
       "      <td>-0.352091</td>\n",
       "      <td>0.743497</td>\n",
       "      <td>-0.690279</td>\n",
       "      <td>1.498350</td>\n",
       "      <td>-0.558346</td>\n",
       "      <td>22</td>\n",
       "      <td>0</td>\n",
       "      <td>0</td>\n",
       "    </tr>\n",
       "    <tr>\n",
       "      <th>889</th>\n",
       "      <td>-1.546098</td>\n",
       "      <td>-1.344995</td>\n",
       "      <td>1.415958</td>\n",
       "      <td>-1.602583</td>\n",
       "      <td>0.705051</td>\n",
       "      <td>31</td>\n",
       "      <td>1</td>\n",
       "      <td>1</td>\n",
       "    </tr>\n",
       "    <tr>\n",
       "      <th>890</th>\n",
       "      <td>-1.546098</td>\n",
       "      <td>0.743497</td>\n",
       "      <td>1.415958</td>\n",
       "      <td>1.498350</td>\n",
       "      <td>0.705051</td>\n",
       "      <td>5</td>\n",
       "      <td>0</td>\n",
       "      <td>0</td>\n",
       "    </tr>\n",
       "  </tbody>\n",
       "</table>\n",
       "<p>891 rows × 8 columns</p>\n",
       "</div>"
      ],
      "text/plain": [
       "       Pclass       Sex      Fare  family_survival  family_size  cluster  \\\n",
       "0   -1.546098 -1.344995  1.415958         1.498350    -0.558346        7   \n",
       "1   -1.546098 -1.344995  1.415958         1.498350    -0.558346        7   \n",
       "2   -1.546098 -1.344995  1.415958         1.498350    -0.558346        7   \n",
       "3   -1.546098  0.743497  1.415958         1.498350     0.705051        5   \n",
       "4   -1.546098 -1.344995  1.415958         1.498350     0.705051        3   \n",
       "..        ...       ...       ...              ...          ...      ...   \n",
       "886  0.841916 -1.344995 -1.392358        -0.052117    -0.558346       13   \n",
       "887 -1.546098  0.743497  1.415958        -0.052117     0.073352       33   \n",
       "888 -0.352091  0.743497 -0.690279         1.498350    -0.558346       22   \n",
       "889 -1.546098 -1.344995  1.415958        -1.602583     0.705051       31   \n",
       "890 -1.546098  0.743497  1.415958         1.498350     0.705051        5   \n",
       "\n",
       "     Survived  group_survived  \n",
       "0           1               1  \n",
       "1           1               1  \n",
       "2           1               1  \n",
       "3           0               0  \n",
       "4           1               1  \n",
       "..        ...             ...  \n",
       "886         0               1  \n",
       "887         0               0  \n",
       "888         0               0  \n",
       "889         1               1  \n",
       "890         0               0  \n",
       "\n",
       "[891 rows x 8 columns]"
      ]
     },
     "execution_count": 70,
     "metadata": {},
     "output_type": "execute_result"
    }
   ],
   "source": [
    "clust, cent, total_sum = cluster_data(train[columns], number_of_clusters=100)\n",
    "\n",
    "clust['Survived'] = train['Survived']\n",
    "survival_mapper = clust.groupby('cluster')['Survived'].mean().round().astype(np.int).to_dict()\n",
    "clust['group_survived'] = clust.cluster.map(survival_mapper)\n",
    "clust"
   ]
  },
  {
   "cell_type": "code",
   "execution_count": 71,
   "metadata": {
    "execution": {
     "iopub.execute_input": "2020-10-21T12:31:56.555350Z",
     "iopub.status.busy": "2020-10-21T12:31:56.554226Z",
     "iopub.status.idle": "2020-10-21T12:31:56.559491Z",
     "shell.execute_reply": "2020-10-21T12:31:56.558774Z"
    },
    "papermill": {
     "duration": 0.052582,
     "end_time": "2020-10-21T12:31:56.559645",
     "exception": false,
     "start_time": "2020-10-21T12:31:56.507063",
     "status": "completed"
    },
    "tags": []
   },
   "outputs": [
    {
     "data": {
      "text/plain": [
       "0.8406285072951739"
      ]
     },
     "execution_count": 71,
     "metadata": {},
     "output_type": "execute_result"
    }
   ],
   "source": [
    "accuracy = (clust['Survived'] == clust['group_survived']).mean()\n",
    "accuracy  # train dataset accuracy"
   ]
  },
  {
   "cell_type": "code",
   "execution_count": 72,
   "metadata": {
    "execution": {
     "iopub.execute_input": "2020-10-21T12:31:56.656617Z",
     "iopub.status.busy": "2020-10-21T12:31:56.655435Z",
     "iopub.status.idle": "2020-10-21T12:31:56.724392Z",
     "shell.execute_reply": "2020-10-21T12:31:56.723715Z"
    },
    "papermill": {
     "duration": 0.122937,
     "end_time": "2020-10-21T12:31:56.724535",
     "exception": false,
     "start_time": "2020-10-21T12:31:56.601598",
     "status": "completed"
    },
    "tags": []
   },
   "outputs": [
    {
     "data": {
      "text/html": [
       "<div>\n",
       "<style scoped>\n",
       "    .dataframe tbody tr th:only-of-type {\n",
       "        vertical-align: middle;\n",
       "    }\n",
       "\n",
       "    .dataframe tbody tr th {\n",
       "        vertical-align: top;\n",
       "    }\n",
       "\n",
       "    .dataframe thead th {\n",
       "        text-align: right;\n",
       "    }\n",
       "</style>\n",
       "<table border=\"1\" class=\"dataframe\">\n",
       "  <thead>\n",
       "    <tr style=\"text-align: right;\">\n",
       "      <th></th>\n",
       "      <th>PassengerId</th>\n",
       "      <th>Survived</th>\n",
       "    </tr>\n",
       "  </thead>\n",
       "  <tbody>\n",
       "    <tr>\n",
       "      <th>0</th>\n",
       "      <td>892</td>\n",
       "      <td>0</td>\n",
       "    </tr>\n",
       "    <tr>\n",
       "      <th>1</th>\n",
       "      <td>893</td>\n",
       "      <td>0</td>\n",
       "    </tr>\n",
       "    <tr>\n",
       "      <th>2</th>\n",
       "      <td>894</td>\n",
       "      <td>0</td>\n",
       "    </tr>\n",
       "    <tr>\n",
       "      <th>3</th>\n",
       "      <td>895</td>\n",
       "      <td>0</td>\n",
       "    </tr>\n",
       "    <tr>\n",
       "      <th>4</th>\n",
       "      <td>896</td>\n",
       "      <td>1</td>\n",
       "    </tr>\n",
       "    <tr>\n",
       "      <th>...</th>\n",
       "      <td>...</td>\n",
       "      <td>...</td>\n",
       "    </tr>\n",
       "    <tr>\n",
       "      <th>413</th>\n",
       "      <td>1305</td>\n",
       "      <td>0</td>\n",
       "    </tr>\n",
       "    <tr>\n",
       "      <th>414</th>\n",
       "      <td>1306</td>\n",
       "      <td>1</td>\n",
       "    </tr>\n",
       "    <tr>\n",
       "      <th>415</th>\n",
       "      <td>1307</td>\n",
       "      <td>0</td>\n",
       "    </tr>\n",
       "    <tr>\n",
       "      <th>416</th>\n",
       "      <td>1308</td>\n",
       "      <td>0</td>\n",
       "    </tr>\n",
       "    <tr>\n",
       "      <th>417</th>\n",
       "      <td>1309</td>\n",
       "      <td>1</td>\n",
       "    </tr>\n",
       "  </tbody>\n",
       "</table>\n",
       "<p>418 rows × 2 columns</p>\n",
       "</div>"
      ],
      "text/plain": [
       "     PassengerId  Survived\n",
       "0            892         0\n",
       "1            893         0\n",
       "2            894         0\n",
       "3            895         0\n",
       "4            896         1\n",
       "..           ...       ...\n",
       "413         1305         0\n",
       "414         1306         1\n",
       "415         1307         0\n",
       "416         1308         0\n",
       "417         1309         1\n",
       "\n",
       "[418 rows x 2 columns]"
      ]
     },
     "execution_count": 72,
     "metadata": {},
     "output_type": "execute_result"
    }
   ],
   "source": [
    "survival_map = clust.groupby('cluster')['Survived'].mean().round().astype(np.int).to_dict()\n",
    "\n",
    "predict, loss = cluster_dataset(test[columns], cent)\n",
    "\n",
    "predict['Survived'] = predict.cluster.map(survival_map)\n",
    "predict['PassengerId'] = test['PassengerId']\n",
    "predict = predict[['PassengerId', 'Survived']].sort_values('PassengerId').reset_index(drop=True)\n",
    "predict"
   ]
  },
  {
   "cell_type": "code",
   "execution_count": 74,
   "metadata": {
    "execution": {
     "iopub.execute_input": "2020-10-21T12:31:56.814114Z",
     "iopub.status.busy": "2020-10-21T12:31:56.813036Z",
     "iopub.status.idle": "2020-10-21T12:31:57.205549Z",
     "shell.execute_reply": "2020-10-21T12:31:57.204718Z"
    },
    "papermill": {
     "duration": 0.439638,
     "end_time": "2020-10-21T12:31:57.205704",
     "exception": false,
     "start_time": "2020-10-21T12:31:56.766066",
     "status": "completed"
    },
    "tags": []
   },
   "outputs": [],
   "source": [
    "predict.to_csv('results_algorithm_from_scratch.csv', index=False)"
   ]
  },
  {
   "cell_type": "markdown",
   "metadata": {
    "papermill": {
     "duration": 0.044822,
     "end_time": "2020-10-21T12:31:57.316225",
     "exception": false,
     "start_time": "2020-10-21T12:31:57.271403",
     "status": "completed"
    },
    "tags": []
   },
   "source": [
    "On Kaggle, it scores 0.794. Not bad at all!"
   ]
  },
  {
   "cell_type": "code",
   "execution_count": null,
   "metadata": {
    "papermill": {
     "duration": 0.053248,
     "end_time": "2020-10-21T12:31:57.413827",
     "exception": false,
     "start_time": "2020-10-21T12:31:57.360579",
     "status": "completed"
    },
    "tags": []
   },
   "outputs": [],
   "source": []
  },
  {
   "cell_type": "markdown",
   "metadata": {
    "papermill": {
     "duration": 0.043656,
     "end_time": "2020-10-21T12:31:57.501110",
     "exception": false,
     "start_time": "2020-10-21T12:31:57.457454",
     "status": "completed"
    },
    "tags": []
   },
   "source": [
    "# 3. Solution using Scikit-Learn"
   ]
  },
  {
   "cell_type": "code",
   "execution_count": null,
   "metadata": {
    "execution": {
     "iopub.execute_input": "2020-10-21T12:31:57.593551Z",
     "iopub.status.busy": "2020-10-21T12:31:57.592716Z",
     "iopub.status.idle": "2020-10-21T12:31:59.056240Z",
     "shell.execute_reply": "2020-10-21T12:31:59.055414Z"
    },
    "papermill": {
     "duration": 1.513237,
     "end_time": "2020-10-21T12:31:59.056371",
     "exception": false,
     "start_time": "2020-10-21T12:31:57.543134",
     "status": "completed"
    },
    "tags": []
   },
   "outputs": [],
   "source": [
    "from sklearn.cluster import KMeans"
   ]
  },
  {
   "cell_type": "code",
   "execution_count": null,
   "metadata": {
    "execution": {
     "iopub.execute_input": "2020-10-21T12:31:59.154130Z",
     "iopub.status.busy": "2020-10-21T12:31:59.152961Z",
     "iopub.status.idle": "2020-10-21T12:31:59.378219Z",
     "shell.execute_reply": "2020-10-21T12:31:59.379019Z"
    },
    "papermill": {
     "duration": 0.280364,
     "end_time": "2020-10-21T12:31:59.379216",
     "exception": false,
     "start_time": "2020-10-21T12:31:59.098852",
     "status": "completed"
    },
    "tags": []
   },
   "outputs": [
    {
     "ename": "NameError",
     "evalue": "name 'train' is not defined",
     "output_type": "error",
     "traceback": [
      "\u001b[0;31m---------------------------------------------------------------------------\u001b[0m",
      "\u001b[0;31mNameError\u001b[0m                                 Traceback (most recent call last)",
      "\u001b[0;32m<ipython-input-7-0bc584b1fcfd>\u001b[0m in \u001b[0;36m<module>\u001b[0;34m\u001b[0m\n\u001b[1;32m      8\u001b[0m )\n\u001b[1;32m      9\u001b[0m \u001b[0;34m\u001b[0m\u001b[0m\n\u001b[0;32m---> 10\u001b[0;31m \u001b[0m_\u001b[0m \u001b[0;34m=\u001b[0m \u001b[0mkm\u001b[0m\u001b[0;34m.\u001b[0m\u001b[0mfit\u001b[0m\u001b[0;34m(\u001b[0m\u001b[0mtrain\u001b[0m\u001b[0;34m[\u001b[0m\u001b[0;34m[\u001b[0m\u001b[0;34m'Pclass'\u001b[0m\u001b[0;34m,\u001b[0m \u001b[0;34m'Sex'\u001b[0m\u001b[0;34m,\u001b[0m  \u001b[0;34m'Fare'\u001b[0m\u001b[0;34m,\u001b[0m \u001b[0;34m'family_survival'\u001b[0m\u001b[0;34m,\u001b[0m \u001b[0;34m'family_size'\u001b[0m\u001b[0;34m]\u001b[0m\u001b[0;34m]\u001b[0m\u001b[0;34m)\u001b[0m\u001b[0;34m\u001b[0m\u001b[0;34m\u001b[0m\u001b[0m\n\u001b[0m",
      "\u001b[0;31mNameError\u001b[0m: name 'train' is not defined"
     ]
    }
   ],
   "source": [
    "km = KMeans(\n",
    "    n_clusters=47,\n",
    "    init='random',\n",
    "    n_init=32,\n",
    "    max_iter=600, \n",
    "    tol=1e-5,\n",
    "    random_state=2020,\n",
    ")\n",
    "\n",
    "_ = km.fit(train[['Pclass', 'Sex',  'Fare', 'family_survival', 'family_size']])"
   ]
  },
  {
   "cell_type": "code",
   "execution_count": null,
   "metadata": {
    "execution": {
     "iopub.execute_input": "2020-10-21T12:31:59.495829Z",
     "iopub.status.busy": "2020-10-21T12:31:59.494915Z",
     "iopub.status.idle": "2020-10-21T12:31:59.519991Z",
     "shell.execute_reply": "2020-10-21T12:31:59.520736Z"
    },
    "papermill": {
     "duration": 0.089999,
     "end_time": "2020-10-21T12:31:59.521026",
     "exception": false,
     "start_time": "2020-10-21T12:31:59.431027",
     "status": "completed"
    },
    "tags": []
   },
   "outputs": [],
   "source": [
    "df = train.copy()\n",
    "df['cluster'] = km.predict(df[columns])\n",
    "mapper = df.groupby('cluster')['Survived'].mean().round().to_dict()\n",
    "\n",
    "df = test.copy()\n",
    "df['Survived'] = km.predict(test[['Pclass', 'Sex',  'Fare', 'family_survival', 'family_size']])\n",
    "df['Survived'] = df.Survived.map(mapper).astype(np.int)\n",
    "df = df[['PassengerId', 'Survived']].sort_values('PassengerId').reset_index(drop=True)\n",
    "\n",
    "df.to_csv('results_scikit_algorithm.csv', index=False)"
   ]
  },
  {
   "cell_type": "markdown",
   "metadata": {
    "papermill": {
     "duration": 0.061175,
     "end_time": "2020-10-21T12:31:59.633132",
     "exception": false,
     "start_time": "2020-10-21T12:31:59.571957",
     "status": "completed"
    },
    "tags": []
   },
   "source": [
    "The Scikit-learn algorithm scores almost the same: 0.796"
   ]
  },
  {
   "cell_type": "code",
   "execution_count": null,
   "metadata": {
    "papermill": {
     "duration": 0.044235,
     "end_time": "2020-10-21T12:31:59.727909",
     "exception": false,
     "start_time": "2020-10-21T12:31:59.683674",
     "status": "completed"
    },
    "tags": []
   },
   "outputs": [],
   "source": []
  }
 ],
 "metadata": {
  "interpreter": {
   "hash": "e10b8a05e2fde5b691df5ad09b474c60d07e80d48de91a997d76a926036c2f24"
  },
  "kernelspec": {
   "display_name": "Python 3.8.10 64-bit ('env': venv)",
   "name": "python3"
  },
  "language_info": {
   "codemirror_mode": {
    "name": "ipython",
    "version": 3
   },
   "file_extension": ".py",
   "mimetype": "text/x-python",
   "name": "python",
   "nbconvert_exporter": "python",
   "pygments_lexer": "ipython3",
   "version": "3.8.10"
  },
  "papermill": {
   "duration": 16.409814,
   "end_time": "2020-10-21T12:31:59.878669",
   "environment_variables": {},
   "exception": null,
   "input_path": "__notebook__.ipynb",
   "output_path": "__notebook__.ipynb",
   "parameters": {},
   "start_time": "2020-10-21T12:31:43.468855",
   "version": "2.1.0"
  }
 },
 "nbformat": 4,
 "nbformat_minor": 4
}
