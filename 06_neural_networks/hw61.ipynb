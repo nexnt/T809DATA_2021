{
    "cells": [
        {
            "cell_type": "code",
            "execution_count": 1,
            "source": [
                "import torch\n",
                "import torchvision\n",
                "import torchvision.transforms as transforms\n",
                "\n",
                "\n",
                "transform = transforms.Compose(\n",
                "    [transforms.ToTensor(),\n",
                "     transforms.Normalize((0.5, 0.5, 0.5), (0.5, 0.5, 0.5))])\n",
                "\n",
                "batch_size = 4\n",
                "\n",
                "trainset = torchvision.datasets.CIFAR10(root='./data', train=True,\n",
                "                                        download=True, transform=transform)\n",
                "trainloader = torch.utils.data.DataLoader(trainset, batch_size=batch_size,\n",
                "                                          shuffle=True, num_workers=2)\n",
                "\n",
                "testset = torchvision.datasets.CIFAR10(root='./data', train=False,\n",
                "                                       download=True, transform=transform)\n",
                "testloader = torch.utils.data.DataLoader(testset, batch_size=batch_size,\n",
                "                                         shuffle=False, num_workers=2)\n",
                "\n",
                "classes = ('plane', 'car', 'bird', 'cat',\n",
                "           'deer', 'dog', 'frog', 'horse', 'ship', 'truck')\n",
                "\n",
                "\n",
                "import matplotlib.pyplot as plt\n",
                "import numpy as np\n",
                "\n",
                "# functions to show an image\n",
                "\n",
                "\n",
                "def imshow(img):\n",
                "    img = img / 2 + 0.5     # unnormalize\n",
                "    npimg = img.numpy()\n",
                "    plt.imshow(np.transpose(npimg, (1, 2, 0)))\n",
                "    plt.show()\n",
                "\n",
                "\n",
                "\n",
                "\n"
            ],
            "outputs": [
                {
                    "output_type": "stream",
                    "name": "stderr",
                    "text": [
                        "0.3%"
                    ]
                }
            ],
            "metadata": {}
        },
        {
            "cell_type": "code",
            "execution_count": null,
            "source": [
                "import torch.nn as nn\n",
                "import torch.nn.functional as F\n",
                "\n",
                "\n",
                "class Net(nn.Module):\n",
                "    def __init__(self):\n",
                "        super().__init__()\n",
                "        self.conv1 = nn.Conv2d(3, 6, 5)\n",
                "        self.pool = nn.MaxPool2d(2, 2)\n",
                "        self.conv2 = nn.Conv2d(6, 16, 5)\n",
                "        self.fc1 = nn.Linear(16 * 5 * 5, 120)\n",
                "        self.fc2 = nn.Linear(120, 84)\n",
                "        self.fc3 = nn.Linear(84, 10)\n",
                "\n",
                "    def forward(self, x):\n",
                "        x = self.pool(F.relu(self.conv1(x)))\n",
                "        x = self.pool(F.relu(self.conv2(x)))\n",
                "        x = torch.flatten(x, 1) # flatten all dimensions except batch\n",
                "        x = F.relu(self.fc1(x))\n",
                "        x = F.relu(self.fc2(x))\n",
                "        x = self.fc3(x)\n",
                "        return x\n",
                "\n",
                "\n",
                "net = Net()\n"
            ],
            "outputs": [],
            "metadata": {}
        },
        {
            "cell_type": "code",
            "execution_count": null,
            "source": [
                "\n",
                "import torch.optim as optim\n",
                "\n",
                "criterion = nn.CrossEntropyLoss()\n",
                "optimizer = optim.SGD(net.parameters(), lr=0.001, momentum=0.9)"
            ],
            "outputs": [],
            "metadata": {}
        },
        {
            "cell_type": "code",
            "execution_count": null,
            "source": [
                "\n",
                "for epoch in range(2):  # loop over the dataset multiple times\n",
                "\n",
                "    running_loss = 0.0\n",
                "    for i, data in enumerate(trainloader, 0):\n",
                "        # get the inputs; data is a list of [inputs, labels]\n",
                "        inputs, labels = data\n",
                "\n",
                "        # zero the parameter gradients\n",
                "        optimizer.zero_grad()\n",
                "\n",
                "        # forward + backward + optimize\n",
                "        outputs = net(inputs)\n",
                "        loss = criterion(outputs, labels)\n",
                "        loss.backward()\n",
                "        optimizer.step()\n",
                "\n",
                "        # print statistics\n",
                "        running_loss += loss.item()\n",
                "        if i % 2000 == 1999:    # print every 2000 mini-batches\n",
                "            print('[%d, %5d] loss: %.3f' %\n",
                "                  (epoch + 1, i + 1, running_loss / 2000))\n",
                "            running_loss = 0.0\n",
                "\n",
                "print('Finished Training')"
            ],
            "outputs": [],
            "metadata": {}
        },
        {
            "cell_type": "code",
            "execution_count": null,
            "source": [
                "PATH = './06_neural_networks/cifar_net.pth'\n",
                "torch.save(net.state_dict(), PATH)\n"
            ],
            "outputs": [],
            "metadata": {}
        },
        {
            "cell_type": "code",
            "execution_count": null,
            "source": [
                "dataiter = iter(testloader)\n",
                "images, labels = dataiter.next()\n",
                "\n",
                "# print images\n",
                "imshow(torchvision.utils.make_grid(images))\n",
                "print('GroundTruth: ', ' '.join('%5s' % classes[labels[j]] for j in range(4)))"
            ],
            "outputs": [],
            "metadata": {}
        },
        {
            "cell_type": "code",
            "execution_count": null,
            "source": [
                "net = Net()\n",
                "net.load_state_dict(torch.load(PATH))"
            ],
            "outputs": [],
            "metadata": {}
        },
        {
            "cell_type": "code",
            "execution_count": null,
            "source": [
                "outputs = net(images)"
            ],
            "outputs": [],
            "metadata": {}
        },
        {
            "cell_type": "code",
            "execution_count": null,
            "source": [
                "_, predicted = torch.max(outputs, 1)\n",
                "\n",
                "print('Predicted: ', ' '.join('%5s' % classes[predicted[j]] for j in range(4)))"
            ],
            "outputs": [],
            "metadata": {}
        },
        {
            "cell_type": "code",
            "execution_count": null,
            "source": [
                "correct = 0\n",
                "total = 0\n",
                "# since we're not training, we don't need to calculate the gradients for our outputs\n",
                "with torch.no_grad():\n",
                "    for data in testloader:\n",
                "        images, labels = data\n",
                "        # calculate outputs by running images through the network\n",
                "        outputs = net(images)\n",
                "        # the class with the highest energy is what we choose as prediction\n",
                "        _, predicted = torch.max(outputs.data, 1)\n",
                "        total += labels.size(0)\n",
                "        correct += (predicted == labels).sum().item()\n",
                "\n",
                "print('Accuracy of the network on the 10000 test images: %d %%' % (\n",
                "    100 * correct / total))"
            ],
            "outputs": [],
            "metadata": {}
        },
        {
            "cell_type": "code",
            "execution_count": null,
            "source": [
                "# prepare to count predictions for each class\n",
                "correct_pred = {classname: 0 for classname in classes}\n",
                "total_pred = {classname: 0 for classname in classes}\n",
                "\n",
                "total_of_class = torch.Tensor()\n",
                "\n",
                "\n",
                "cmt = torch.zeros(len(classes),len(classes), dtype=torch.int64)\n",
                "\n",
                "# again no gradients needed\n",
                "with torch.no_grad():\n",
                "    for data in testloader:\n",
                "        images, labels = data\n",
                "        outputs = net(images)\n",
                "        _, predictions = torch.max(outputs, 1)\n",
                "        # collect the correct predictions for each class\n",
                "        for label, prediction in zip(labels, predictions):\n",
                "            if label == prediction:\n",
                "                correct_pred[classes[label]] += 1\n",
                "            total_pred[classes[label]] += 1\n",
                "            cmt[label, prediction] = cmt[label, prediction] + 1\n",
                "\n",
                "print(cmt)\n",
                "\n",
                "\n",
                "\n",
                "# print accuracy for each class\n",
                "\n",
                "print(correct_pred.items())\n",
                "for classname, correct_count in correct_pred.items():\n",
                "    accuracy = 100 * float(correct_count) / total_pred[classname]\n",
                "    print(\"Accuracy for class {:5s} is: {:.1f} %\".format(classname,\n",
                "                                                   accuracy))\n",
                "    \n"
            ],
            "outputs": [],
            "metadata": {}
        },
        {
            "cell_type": "code",
            "execution_count": null,
            "source": [
                "misclass = {classname: 0 for classname in classes}\n",
                "for (label, tot_count), (classname, correct_count) in zip(total_pred.items(), correct_pred.items()):\n",
                "    ...\n",
                "    misclass[label] = (tot_count-correct_count)/tot_count\n",
                "print()\n",
                "plt.bar(misclass.keys(), misclass.values(), align='center', alpha=0.5)\n",
                "plt.savefig(\"./06_neural_networks/1_1_1.png\")\n",
                "plt.title('Misclassification rate picture recognition')\n",
                "plt.ylabel(\"Training iterations\")"
            ],
            "outputs": [],
            "metadata": {}
        },
        {
            "cell_type": "code",
            "execution_count": null,
            "source": [
                "len(classes)"
            ],
            "outputs": [],
            "metadata": {}
        }
    ],
    "metadata": {
        "orig_nbformat": 4,
        "language_info": {
            "name": "python",
            "version": "3.8.10",
            "mimetype": "text/x-python",
            "codemirror_mode": {
                "name": "ipython",
                "version": 3
            },
            "pygments_lexer": "ipython3",
            "nbconvert_exporter": "python",
            "file_extension": ".py"
        },
        "kernelspec": {
            "name": "python3",
            "display_name": "Python 3.8.10 64-bit ('env': venv)"
        },
        "interpreter": {
            "hash": "f4ec64de47f193e0c0719eefd2fa25a1ef40b1f2c20029a5ba811ca2e1303c8b"
        }
    },
    "nbformat": 4,
    "nbformat_minor": 2
}